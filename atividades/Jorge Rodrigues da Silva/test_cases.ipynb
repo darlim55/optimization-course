{
  "cells": [
    {
      "cell_type": "code",
      "execution_count": null,
      "id": "88acc3ae-2017-47e8-b1f3-03ccb9ba8a8e",
      "metadata": {
        "id": "88acc3ae-2017-47e8-b1f3-03ccb9ba8a8e"
      },
      "outputs": [],
      "source": [
        "## https://docs.scipy.org/doc/scipy/tutorial/optimize.html"
      ]
    },
    {
      "cell_type": "markdown",
      "id": "ac8c9ad9-3ed3-41d1-a389-7bdea6fc23f4",
      "metadata": {
        "id": "ac8c9ad9-3ed3-41d1-a389-7bdea6fc23f4"
      },
      "source": [
        "## Present the formulation\n",
        "\n",
        "$f(x) = ?$"
      ]
    },
    {
      "cell_type": "code",
      "execution_count": null,
      "id": "8e2382ba-e08e-4871-bcf1-d9f799e4e437",
      "metadata": {
        "colab": {
          "base_uri": "https://localhost:8080/"
        },
        "id": "8e2382ba-e08e-4871-bcf1-d9f799e4e437",
        "outputId": "b55b4508-a7b2-43c3-faaa-049a99f1472a"
      },
      "outputs": [
        {
          "output_type": "stream",
          "name": "stdout",
          "text": [
            "\n",
            "==== Rosenbrock Results ====\n",
            "\n",
            "Method               |        f(x*) |   nfev |   njev |   nhev |  Time (ms) |  Success\n",
            "--------------------------------------------------------------------------------------\n",
            "Nelder-Mead          |   6.6175e-05 |    243 |    N/A |    N/A |      16.28 |     True\n",
            "BFGS                 |   4.0131e-13 |     30 |     30 |    N/A |       6.06 |     True\n",
            "Newton-CG            |   1.4917e-02 |   1003 |   1003 |   1000 |     283.40 |    False\n",
            "trust-ncg            |   2.7880e-04 |   1001 |    857 |    856 |     226.26 |    False\n",
            "trust-krylov         |   2.7387e-09 |    569 |    569 |    561 |     186.64 |     True\n",
            "trust-exact          |   8.2289e-10 |    655 |    645 |    655 |     557.05 |     True\n"
          ]
        }
      ],
      "source": [
        "import numpy as np\n",
        "import time\n",
        "from scipy.optimize import minimize\n",
        "\n",
        "# Combined Rosenbrock function\n",
        "def rosenbrock(x):\n",
        "    fval = sum(100.0 * (x[1:] - x[:-1]**2.0)**2.0 + (1 - x[:-1])**2.0)\n",
        "\n",
        "    xm = x[1:-1]\n",
        "    xm_m1 = x[:-2]\n",
        "    xm_p1 = x[2:]\n",
        "    grad = np.zeros_like(x)\n",
        "    grad[1:-1] = 200 * (xm - xm_m1**2) - 400 * (xm_p1 - xm**2) * xm - 2 * (1 - xm)\n",
        "    grad[0] = -400 * x[0] * (x[1] - x[0]**2) - 2 * (1 - x[0])\n",
        "    grad[-1] = 200 * (x[-1] - x[-2]**2)\n",
        "\n",
        "    n = len(x)\n",
        "    H = np.zeros((n, n))\n",
        "    for i in range(n):\n",
        "        if i > 0:\n",
        "            H[i, i - 1] = -400 * x[i - 1]\n",
        "        if i < n - 1:\n",
        "            H[i, i] = 1200 * x[i]**2 - 400 * x[i + 1] + 2\n",
        "            H[i, i + 1] = -400 * x[i]\n",
        "        else:\n",
        "            H[i, i] = 200\n",
        "    for i in range(n - 1):\n",
        "        H[i + 1, i] = H[i, i + 1]\n",
        "\n",
        "    return fval, grad, H\n",
        "\n",
        "# Initial point\n",
        "x0 = np.array([1.3, 0.7, 0.8, 1.9, 1.2])\n",
        "\n",
        "# List of methods to compare\n",
        "methods = {\n",
        "    \"Nelder-Mead\": {\"method\": \"Nelder-Mead\"},\n",
        "    \"BFGS\": {\"method\": \"BFGS\", \"jac\": lambda x: rosenbrock(x)[1]},\n",
        "    \"Newton-CG\": {\"method\": \"Newton-CG\", \"jac\": lambda x: rosenbrock(x)[1], \"hess\": lambda x: rosenbrock(x)[2]},\n",
        "    \"trust-ncg\": {\"method\": \"trust-ncg\", \"jac\": lambda x: rosenbrock(x)[1], \"hess\": lambda x: rosenbrock(x)[2]},\n",
        "    \"trust-krylov\": {\"method\": \"trust-krylov\", \"jac\": lambda x: rosenbrock(x)[1], \"hess\": lambda x: rosenbrock(x)[2]},\n",
        "    \"trust-exact\": {\"method\": \"trust-exact\", \"jac\": lambda x: rosenbrock(x)[1], \"hess\": lambda x: rosenbrock(x)[2]},\n",
        "}\n",
        "\n",
        "# Executa as otimizações e armazena resultados\n",
        "results = {}\n",
        "\n",
        "for name, opts in methods.items():\n",
        "    start_time = time.time()\n",
        "    res = minimize(lambda x: rosenbrock(x)[0], x0, **opts, options={\"disp\": False})\n",
        "    elapsed_time = (time.time() - start_time) * 1000  # em ms\n",
        "    results[name] = {\n",
        "        \"x0\": x0,\n",
        "        \"x*\": res.x,\n",
        "        \"fval\": res.fun,\n",
        "        \"nfev\": res.nfev,\n",
        "        \"njev\": res.get(\"njev\", None),\n",
        "        \"nhev\": res.get(\"nhev\", None),\n",
        "        \"time\": elapsed_time,\n",
        "        \"success\": res.success\n",
        "    }\n",
        "\n",
        "# Apresenta os resultados com alinhamento\n",
        "print(\"\\n==== Rosenbrock Results ====\\n\")\n",
        "header = f\"{'Method':<20} | {'f(x*)':>12} | {'nfev':>6} | {'njev':>6} | {'nhev':>6} | {'Time (ms)':>10} | {'Success':>8}\"\n",
        "print(header)\n",
        "print(\"-\" * len(header))\n",
        "\n",
        "for method, data in results.items():\n",
        "    print(f\"{method:<20} | {data['fval']:12.4e} | {data['nfev']:6d} | \"\n",
        "          f\"{data['njev'] if data['njev'] is not None else '  N/A':>6} | \"\n",
        "          f\"{data['nhev'] if data['nhev'] is not None else '  N/A':>6} | \"\n",
        "          f\"{data['time']:10.2f} | {str(data['success']):>8}\")\n"
      ]
    },
    {
      "cell_type": "markdown",
      "id": "a4a971d1-51af-4ec3-9d1a-dfd039b859fb",
      "metadata": {
        "id": "a4a971d1-51af-4ec3-9d1a-dfd039b859fb"
      },
      "source": [
        "## $$\n",
        "\\min_{x_1, x_2} \\Bigl(\\cos x_1 \\,\\sin x_2 \\;-\\; \\frac{x_1}{x_2^2 + 1}\\Bigr)\n",
        "$$"
      ]
    },
    {
      "cell_type": "code",
      "execution_count": null,
      "id": "166e9129-fd13-4fe2-9b3c-c125c0cf4ac7",
      "metadata": {
        "colab": {
          "base_uri": "https://localhost:8080/"
        },
        "id": "166e9129-fd13-4fe2-9b3c-c125c0cf4ac7",
        "outputId": "a16fa651-619b-4fd1-a952-1010e675b0d2"
      },
      "outputs": [
        {
          "output_type": "stream",
          "name": "stdout",
          "text": [
            "\n",
            "==== Example 02 Results ====\n",
            "\n",
            "Method               |        f(x*) |   nfev |   njev |   nhev |  Time (ms) |  Success\n",
            "--------------------------------------------------------------------------------------\n",
            "Nelder-Mead          |  -1.0457e+00 |    167 |    N/A |    N/A |      12.80 |     True\n",
            "BFGS                 |  -4.6714e+32 |    303 |    303 |    N/A |      40.51 |    False\n",
            "Newton-CG            |   0.0000e+00 |      1 |      1 |      1 |       0.39 |     True\n",
            "trust-ncg            |  -1.6960e+05 |    399 |    396 |    395 |      64.55 |    False\n",
            "trust-krylov         |   0.0000e+00 |      2 |      2 |      1 |       0.60 |    False\n",
            "trust-exact          |  -2.2992e+05 |    401 |    390 |    401 |     193.71 |    False\n"
          ]
        }
      ],
      "source": [
        "def ex02(x):\n",
        "    x1, x2 = x\n",
        "\n",
        "    # Função\n",
        "    f = np.cos(x1) * np.sin(x2) - x1 / (x2**2 + 1)\n",
        "\n",
        "    # Gradiente\n",
        "    df_dx1 = -np.sin(x1) * np.sin(x2) - 1 / (x2**2 + 1)\n",
        "    df_dx2 = np.cos(x1) * np.cos(x2) + (2 * x1 * x2) / (x2**2 + 1)**2\n",
        "    g = np.array([df_dx1, df_dx2])\n",
        "\n",
        "    # Hessiana\n",
        "    d2f_dx1dx1 = -np.cos(x1) * np.sin(x2)\n",
        "    d2f_dx1dx2 = -np.sin(x1) * np.cos(x2) + (2 * x2) / (x2**2 + 1)**2\n",
        "    d2f_dx2dx1 = d2f_dx1dx2\n",
        "    d2f_dx2dx2 = -np.cos(x1) * np.sin(x2) + \\\n",
        "                 (2 * x1 * (x2**2 + 1)**2 - 8 * x1 * x2**2 * (x2**2 + 1)) / (x2**2 + 1)**4\n",
        "    H = np.array([\n",
        "        [d2f_dx1dx1, d2f_dx1dx2],\n",
        "        [d2f_dx2dx1, d2f_dx2dx2]\n",
        "    ])\n",
        "\n",
        "    return f, g, H\n",
        "\n",
        "# Initial point\n",
        "x0 = np.array([0.0, 0.0])\n",
        "\n",
        "# List of methods to compare\n",
        "methods = {\n",
        "    \"Nelder-Mead\": {\"method\": \"Nelder-Mead\"},\n",
        "    \"BFGS\": {\"method\": \"BFGS\", \"jac\": lambda x: ex02(x)[1]},\n",
        "    \"Newton-CG\": {\"method\": \"Newton-CG\", \"jac\": lambda x: ex02(x)[1], \"hess\": lambda x: ex02(x)[2]},\n",
        "    \"trust-ncg\": {\"method\": \"trust-ncg\", \"jac\": lambda x: ex02(x)[1], \"hess\": lambda x: ex02(x)[2]},\n",
        "    \"trust-krylov\": {\"method\": \"trust-krylov\", \"jac\": lambda x: ex02(x)[1], \"hess\": lambda x: ex02(x)[2]},\n",
        "    \"trust-exact\": {\"method\": \"trust-exact\", \"jac\": lambda x: ex02(x)[1], \"hess\": lambda x: ex02(x)[2]},\n",
        "}\n",
        "\n",
        "# Executa as otimizações e armazena resultados\n",
        "results = {}\n",
        "\n",
        "for name, opts in methods.items():\n",
        "    start_time = time.time()\n",
        "    res = minimize(lambda x: ex02(x)[0], x0, **opts, options={\"disp\": False})\n",
        "    elapsed_time = (time.time() - start_time) * 1000  # em ms\n",
        "    results[name] = {\n",
        "        \"x0\": x0,\n",
        "        \"x*\": res.x,\n",
        "        \"fval\": res.fun,\n",
        "        \"nfev\": res.nfev,\n",
        "        \"njev\": res.get(\"njev\", None),\n",
        "        \"nhev\": res.get(\"nhev\", None),\n",
        "        \"time\": elapsed_time,\n",
        "        \"success\": res.success\n",
        "    }\n",
        "\n",
        "# Apresenta os resultados com alinhamento\n",
        "print(\"\\n==== Example 02 Results ====\\n\")\n",
        "header = f\"{'Method':<20} | {'f(x*)':>12} | {'nfev':>6} | {'njev':>6} | {'nhev':>6} | {'Time (ms)':>10} | {'Success':>8}\"\n",
        "print(header)\n",
        "print(\"-\" * len(header))\n",
        "\n",
        "for method, data in results.items():\n",
        "    print(f\"{method:<20} | {data['fval']:12.4e} | {data['nfev']:6d} | \"\n",
        "          f\"{data['njev'] if data['njev'] is not None else '  N/A':>6} | \"\n",
        "          f\"{data['nhev'] if data['nhev'] is not None else '  N/A':>6} | \"\n",
        "          f\"{data['time']:10.2f} | {str(data['success']):>8}\")"
      ]
    },
    {
      "cell_type": "markdown",
      "id": "a35e0341-072b-468a-b5bb-84fafe35788f",
      "metadata": {
        "id": "a35e0341-072b-468a-b5bb-84fafe35788f"
      },
      "source": [
        "Problem Statistics:\n",
        "\n",
        "\\# of continuous variables: 2\n",
        "\n",
        "\\# of known solutions: 3\n",
        "\n",
        "Global solution:\n",
        "\n",
        "Objective function: -2.02181\n",
        "\n",
        "Continuous variables: $x_1 = 2; x_2 = 0.10578$"
      ]
    },
    {
      "cell_type": "code",
      "execution_count": null,
      "id": "ae892ca2-c379-4e57-839d-2605d4c1290a",
      "metadata": {
        "colab": {
          "base_uri": "https://localhost:8080/"
        },
        "id": "ae892ca2-c379-4e57-839d-2605d4c1290a",
        "outputId": "86c4a5cb-b04e-4c31-d6a6-5aeb1442e9f1"
      },
      "outputs": [
        {
          "output_type": "execute_result",
          "data": {
            "text/plain": [
              "{'x0': array([0., 0.]),\n",
              " 'x*': array([ 2.29920218e+05, -2.12722515e-03]),\n",
              " 'fval': np.float64(-229919.17963407104),\n",
              " 'nfev': 401,\n",
              " 'njev': 390,\n",
              " 'nhev': 401,\n",
              " 'time': 193.70579719543457,\n",
              " 'success': False}"
            ]
          },
          "metadata": {},
          "execution_count": 5
        }
      ],
      "source": [
        "results['trust-exact']"
      ]
    },
    {
      "cell_type": "code",
      "execution_count": null,
      "id": "178c6ccc-2033-4735-a51a-f8f8e8cd61fb",
      "metadata": {
        "colab": {
          "base_uri": "https://localhost:8080/"
        },
        "id": "178c6ccc-2033-4735-a51a-f8f8e8cd61fb",
        "outputId": "308e27d5-5359-438f-b45a-1122d5e6cf90"
      },
      "outputs": [
        {
          "output_type": "execute_result",
          "data": {
            "text/plain": [
              "(np.float64(-2.0218067833370204),\n",
              " array([-1.08494061e+00, -1.31240428e-05]),\n",
              " array([[ 0.04393797, -0.69731109],\n",
              "        [-0.69731109,  3.78275021]]))"
            ]
          },
          "metadata": {},
          "execution_count": 6
        }
      ],
      "source": [
        "ex02(np.array([2., 0.10578]))"
      ]
    },
    {
      "cell_type": "markdown",
      "id": "af59c6b6-00c1-41dd-9e13-ff3fa77cfadf",
      "metadata": {
        "id": "af59c6b6-00c1-41dd-9e13-ff3fa77cfadf"
      },
      "source": [
        "Testes de derivadas por diferenças finitas"
      ]
    },
    {
      "cell_type": "code",
      "execution_count": null,
      "id": "b75ae822-1cb5-46c0-9e9c-550746518067",
      "metadata": {
        "colab": {
          "base_uri": "https://localhost:8080/"
        },
        "id": "b75ae822-1cb5-46c0-9e9c-550746518067",
        "outputId": "d18220fb-2660-4fa6-bff9-6f387320517a"
      },
      "outputs": [
        {
          "output_type": "execute_result",
          "data": {
            "text/plain": [
              "(array([7.76445575e-09, 1.14897460e-08]),\n",
              " array([[2.34168240e-12, 5.61722197e-12],\n",
              "        [5.61722197e-12, 5.45773426e-11]]))"
            ]
          },
          "metadata": {},
          "execution_count": 7
        }
      ],
      "source": [
        "# Gradiente e Hessiana numéricas\n",
        "from scipy.optimize import approx_fprime\n",
        "def numerical_hessian(f_grad, x, h=1e-5):\n",
        "    n = len(x)\n",
        "    H = np.zeros((n, n))\n",
        "    fx = f_grad(x)\n",
        "    for i in range(n):\n",
        "        x1 = x.copy()\n",
        "        x1[i] += h\n",
        "        f1 = f_grad(x1)\n",
        "        x2 = x.copy()\n",
        "        x2[i] -= h\n",
        "        f2 = f_grad(x2)\n",
        "        H[:, i] = (f1 - f2) / (2 * h)\n",
        "    return H\n",
        "\n",
        "# Ponto de teste\n",
        "x0 = np.array([1.0, 1.0])\n",
        "eps = np.sqrt(np.finfo(float).eps)\n",
        "\n",
        "# Avaliação da função\n",
        "f_val, g_analytical, H_analytical = ex02(x0)\n",
        "\n",
        "# Gradiente numérico\n",
        "g_numeric = approx_fprime(x0, lambda x: ex02(x)[0], eps)\n",
        "\n",
        "# Hessiana numérica via gradiente\n",
        "H_numeric = numerical_hessian(lambda x: ex02(x)[1], x0)\n",
        "\n",
        "# Diferenças absolutas\n",
        "grad_diff = np.abs(g_numeric - g_analytical)\n",
        "hess_diff = np.abs(H_numeric - H_analytical)\n",
        "\n",
        "grad_diff, hess_diff\n"
      ]
    },
    {
      "cell_type": "markdown",
      "id": "e9887743-47fd-4f38-b515-9b3f3015b207",
      "metadata": {
        "id": "e9887743-47fd-4f38-b515-9b3f3015b207"
      },
      "source": [
        "$$\n",
        "\\min_{x, y}\n",
        "\\Bigl[\n",
        "1\n",
        "+ (x + y + 1)^2 \\,\\bigl(19 - 14x + 3x^2 - 14y + 6xy + 3y^2\\bigr)\n",
        "\\Bigr]\n",
        "\\;\\times\\;\n",
        "\\Bigl[\n",
        "30\n",
        "+ (2x - 3y)^2 \\,\\bigl(18 - 32x^2 + 12x^2 + 48y - 36xy + 27y^2\\bigr)\n",
        "\\Bigr]\n",
        "$$"
      ]
    },
    {
      "cell_type": "code",
      "execution_count": null,
      "id": "0bb4ba81-dd3c-4358-ac4f-0b039762c59b",
      "metadata": {
        "id": "0bb4ba81-dd3c-4358-ac4f-0b039762c59b"
      },
      "outputs": [],
      "source": [
        "import numpy as np\n",
        "\n",
        "# Função e gradiente analítico\n",
        "def goldstein_price_fg(x):\n",
        "    x1, x2 = x\n",
        "    a = x1 + x2 + 1\n",
        "    b = 2 * x1 - 3 * x2\n",
        "\n",
        "    A = 1 + a**2 * (19 - 14 * x1 + 3 * x1**2 - 14 * x2 + 6 * x1 * x2 + 3 * x2**2)\n",
        "    B = 30 + b**2 * (18 - 32 * x1 + 12 * x1**2 + 48 * x2 - 36 * x1 * x2 + 27 * x2**2)\n",
        "\n",
        "    f = A * B\n",
        "\n",
        "    dA_dx1 = 2 * a * (19 - 14 * x1 + 3 * x1**2 - 14 * x2 + 6 * x1 * x2 + 3 * x2**2) \\\n",
        "             + a**2 * (-14 + 6 * x1 + 6 * x2)\n",
        "    dA_dx2 = 2 * a * (19 - 14 * x1 + 3 * x1**2 - 14 * x2 + 6 * x1 * x2 + 3 * x2**2) \\\n",
        "             + a**2 * (-14 + 6 * x1 + 6 * x2)\n",
        "\n",
        "    dB_dx1 = 4 * b * (18 - 32 * x1 + 12 * x1**2 + 48 * x2 - 36 * x1 * x2 + 27 * x2**2) \\\n",
        "             + b**2 * (-32 + 24 * x1 - 36 * x2)\n",
        "    dB_dx2 = -6 * b * (18 - 32 * x1 + 12 * x1**2 + 48 * x2 - 36 * x1 * x2 + 27 * x2**2) \\\n",
        "             + b**2 * (48 - 36 * x1 + 54 * x2)\n",
        "\n",
        "    df_dx1 = dA_dx1 * B + A * dB_dx1\n",
        "    df_dx2 = dA_dx2 * B + A * dB_dx2\n",
        "    g = np.array([df_dx1, df_dx2])\n",
        "\n",
        "    return f, g\n",
        "\n",
        "# Hessiana numérica com diferenças centrais\n",
        "def numerical_hessian(grad_func, x, h=1e-5):\n",
        "    n = len(x)\n",
        "    H = np.zeros((n, n))\n",
        "    for i in range(n):\n",
        "        x1 = x.copy()\n",
        "        x2 = x.copy()\n",
        "        x1[i] += h\n",
        "        x2[i] -= h\n",
        "        g1 = grad_func(x1)\n",
        "        g2 = grad_func(x2)\n",
        "        H[:, i] = (g1 - g2) / (2 * h)\n",
        "    return H\n",
        "\n",
        "# Interface principal\n",
        "def ex03(x):\n",
        "    f, g = goldstein_price_fg(x)\n",
        "    H = numerical_hessian(lambda x_: goldstein_price_fg(x_)[1], x)\n",
        "    return f, g, H\n",
        "\n"
      ]
    },
    {
      "cell_type": "code",
      "execution_count": null,
      "id": "a0502458-bd82-444d-a43d-98ccb03abafa",
      "metadata": {
        "colab": {
          "base_uri": "https://localhost:8080/"
        },
        "id": "a0502458-bd82-444d-a43d-98ccb03abafa",
        "outputId": "b154f0f6-6406-49f8-8577-73dd6393d366"
      },
      "outputs": [
        {
          "output_type": "stream",
          "name": "stdout",
          "text": [
            "f(x) = 3.0\n",
            "∇f(x) = [0. 0.]\n",
            "∇²f(x) =\n",
            " [[ 504.0000021  -215.99999929]\n",
            " [-216.00000055  864.00000477]]\n"
          ]
        }
      ],
      "source": [
        "x0 = np.array([0.0, -1.0])\n",
        "fval, grad, hess = ex03(x0)\n",
        "print(\"f(x) =\", fval)\n",
        "print(\"∇f(x) =\", grad)\n",
        "print(\"∇²f(x) =\\n\", hess)"
      ]
    },
    {
      "cell_type": "code",
      "execution_count": null,
      "id": "cd608434-5b23-466d-9961-c0454262172f",
      "metadata": {
        "colab": {
          "base_uri": "https://localhost:8080/"
        },
        "id": "cd608434-5b23-466d-9961-c0454262172f",
        "outputId": "7e27a640-e175-457d-dfcc-ff79431bc798"
      },
      "outputs": [
        {
          "output_type": "stream",
          "name": "stdout",
          "text": [
            "\n",
            "==== Example 03 Results ====\n",
            "\n",
            "Method               |        f(x*) |   nfev |   njev |   nhev |  Time (ms) |  Success\n",
            "--------------------------------------------------------------------------------------\n",
            "Nelder-Mead          |   3.0000e+01 |    121 |    N/A |    N/A |      13.35 |     True\n",
            "BFGS                 |   3.0000e+01 |     16 |     16 |    N/A |       4.63 |     True\n",
            "Newton-CG            |   3.0000e+01 |     13 |     13 |      8 |       4.57 |     True\n",
            "trust-ncg            |   3.0000e+01 |     11 |      9 |      8 |       3.68 |     True\n",
            "trust-krylov         |   3.0000e+01 |      7 |      7 |      6 |       3.03 |     True\n",
            "trust-exact          |   3.0000e+01 |      7 |      7 |      7 |       3.62 |     True\n"
          ]
        }
      ],
      "source": [
        "# Initial point\n",
        "x0 = np.array([0.0, 0.0])\n",
        "\n",
        "# List of methods to compare\n",
        "methods = {\n",
        "    \"Nelder-Mead\": {\"method\": \"Nelder-Mead\"},\n",
        "    \"BFGS\": {\"method\": \"BFGS\", \"jac\": lambda x: ex03(x)[1]},\n",
        "    \"Newton-CG\": {\"method\": \"Newton-CG\", \"jac\": lambda x: ex03(x)[1], \"hess\": lambda x: ex03(x)[2]},\n",
        "    \"trust-ncg\": {\"method\": \"trust-ncg\", \"jac\": lambda x: ex03(x)[1], \"hess\": lambda x: ex03(x)[2]},\n",
        "    \"trust-krylov\": {\"method\": \"trust-krylov\", \"jac\": lambda x: ex03(x)[1], \"hess\": lambda x: ex03(x)[2]},\n",
        "    \"trust-exact\": {\"method\": \"trust-exact\", \"jac\": lambda x: ex03(x)[1], \"hess\": lambda x: ex03(x)[2]},\n",
        "}\n",
        "\n",
        "# Executa as otimizações e armazena resultados\n",
        "results = {}\n",
        "\n",
        "for name, opts in methods.items():\n",
        "    start_time = time.time()\n",
        "    res = minimize(lambda x: ex03(x)[0], x0, **opts, options={\"disp\": False})\n",
        "    elapsed_time = (time.time() - start_time) * 1000  # em ms\n",
        "    results[name] = {\n",
        "        \"x0\": x0,\n",
        "        \"x*\": res.x,\n",
        "        \"fval\": res.fun,\n",
        "        \"nfev\": res.nfev,\n",
        "        \"njev\": res.get(\"njev\", None),\n",
        "        \"nhev\": res.get(\"nhev\", None),\n",
        "        \"time\": elapsed_time,\n",
        "        \"success\": res.success\n",
        "    }\n",
        "\n",
        "# Apresenta os resultados com alinhamento\n",
        "print(\"\\n==== Example 03 Results ====\\n\")\n",
        "header = f\"{'Method':<20} | {'f(x*)':>12} | {'nfev':>6} | {'njev':>6} | {'nhev':>6} | {'Time (ms)':>10} | {'Success':>8}\"\n",
        "print(header)\n",
        "print(\"-\" * len(header))\n",
        "\n",
        "for method, data in results.items():\n",
        "    print(f\"{method:<20} | {data['fval']:12.4e} | {data['nfev']:6d} | \"\n",
        "          f\"{data['njev'] if data['njev'] is not None else '  N/A':>6} | \"\n",
        "          f\"{data['nhev'] if data['nhev'] is not None else '  N/A':>6} | \"\n",
        "          f\"{data['time']:10.2f} | {str(data['success']):>8}\")"
      ]
    },
    {
      "cell_type": "markdown",
      "id": "fdf01147-d3dd-4e86-a0de-6c1e7f0e3fdd",
      "metadata": {
        "id": "fdf01147-d3dd-4e86-a0de-6c1e7f0e3fdd"
      },
      "source": [
        "Problem Statistics:\n",
        "\n",
        "\\# of continuous variables: 2\n",
        "\n",
        "\\# of known solutions: 4\n",
        "\n",
        "Global solution:\n",
        "\n",
        "Objective function: 3\n",
        "\n",
        "Continuous variables: $x_1 = 0.0; x_2 = -1.0$"
      ]
    },
    {
      "cell_type": "markdown",
      "id": "2fb89aa0-4642-4f14-b218-58a8b248c1f7",
      "metadata": {
        "id": "2fb89aa0-4642-4f14-b218-58a8b248c1f7"
      },
      "source": [
        "$$\n",
        "f_1(x) \\;=\\; -20 \\, e^{-0.2 \\,\\sqrt{\\frac{1}{D}\\,\\sum_{i=1}^{D} x_i^2}}\n",
        "\\;-\\; e^{\\frac{1}{D}\\,\\sum_{i=1}^{D} \\cos\\bigl(2\\pi x_i\\bigr)}\n",
        "\\;+\\; 20\n",
        "\\;+\\; e\n",
        "$$"
      ]
    },
    {
      "cell_type": "code",
      "execution_count": null,
      "id": "c8c4eaac-fdaf-43aa-ab47-0213cb2022fa",
      "metadata": {
        "id": "c8c4eaac-fdaf-43aa-ab47-0213cb2022fa"
      },
      "outputs": [],
      "source": [
        "\n",
        "# Valor e gradiente da função Ackley 1\n",
        "def ackley1_fg(x):\n",
        "    D = len(x)\n",
        "    sum_sq = np.sum(x**2)\n",
        "    sum_cos = np.sum(np.cos(2 * np.pi * x))\n",
        "\n",
        "    term1 = -20 * np.exp(-0.2 * np.sqrt(sum_sq / D))\n",
        "    term2 = -np.exp(sum_cos / D)\n",
        "    f = term1 + term2 + 20 + np.e\n",
        "\n",
        "    # Gradiente analítico\n",
        "    sqrt_sum_sq = np.sqrt(sum_sq / D)\n",
        "    if sqrt_sum_sq == 0:\n",
        "        grad1 = 0\n",
        "    else:\n",
        "        grad1 = (4 * x / (D * sqrt_sum_sq)) * np.exp(-0.2 * sqrt_sum_sq)\n",
        "\n",
        "    grad2 = (2 * np.pi / D) * np.sin(2 * np.pi * x) * np.exp(sum_cos / D)\n",
        "\n",
        "    g = grad1 + grad2\n",
        "    return f, g\n",
        "\n",
        "# Hessiana numérica usando gradiente externo\n",
        "def numerical_hessian(grad_func, x, h=1e-5):\n",
        "    n = len(x)\n",
        "    H = np.zeros((n, n))\n",
        "    for i in range(n):\n",
        "        x1 = x.copy()\n",
        "        x2 = x.copy()\n",
        "        x1[i] += h\n",
        "        x2[i] -= h\n",
        "        g1 = grad_func(x1)\n",
        "        g2 = grad_func(x2)\n",
        "        H[:, i] = (g1 - g2) / (2 * h)\n",
        "    return H\n",
        "\n",
        "# Interface final\n",
        "def ackley1(x):\n",
        "    f, g = ackley1_fg(x)\n",
        "    H = numerical_hessian(lambda x_: ackley1_fg(x_)[1], x)\n",
        "    return f, g, H\n",
        "\n"
      ]
    },
    {
      "cell_type": "code",
      "execution_count": null,
      "id": "7a3cbf68-7e45-4b85-919a-77a7b7962bf5",
      "metadata": {
        "colab": {
          "base_uri": "https://localhost:8080/"
        },
        "id": "7a3cbf68-7e45-4b85-919a-77a7b7962bf5",
        "outputId": "b360f8e0-d3b2-4ce9-f3e4-334a651d0d29"
      },
      "outputs": [
        {
          "output_type": "stream",
          "name": "stdout",
          "text": [
            "f(x) = 4.440892098500626e-16\n",
            "∇f(x) = [0. 0. 0. 0. 0.]\n",
            "∇²f(x) =\n",
            " [[178906.74089307      0.              0.              0.\n",
            "       0.        ]\n",
            " [     0.         178906.74089307      0.              0.\n",
            "       0.        ]\n",
            " [     0.              0.         178906.74089307      0.\n",
            "       0.        ]\n",
            " [     0.              0.              0.         178906.74089307\n",
            "       0.        ]\n",
            " [     0.              0.              0.              0.\n",
            "  178906.74089307]]\n"
          ]
        }
      ],
      "source": [
        "x0 = np.zeros(5)\n",
        "fval, grad, hess = ackley1(x0)\n",
        "print(\"f(x) =\", fval)\n",
        "print(\"∇f(x) =\", grad)\n",
        "print(\"∇²f(x) =\\n\", hess)"
      ]
    },
    {
      "cell_type": "code",
      "execution_count": null,
      "id": "ad9a48c4-921e-42b6-a95e-faa6291cf59f",
      "metadata": {
        "colab": {
          "base_uri": "https://localhost:8080/"
        },
        "id": "ad9a48c4-921e-42b6-a95e-faa6291cf59f",
        "outputId": "c22dcd1b-7488-4ffd-be5d-2f4ab6d6bb4f"
      },
      "outputs": [
        {
          "output_type": "stream",
          "name": "stdout",
          "text": [
            "\n",
            "==== Example 03 Results ====\n",
            "\n",
            "Method               |        f(x*) |   nfev |   njev |   nhev |  Time (ms) |  Success\n",
            "--------------------------------------------------------------------------------------\n",
            "Nelder-Mead          |   3.5745e+00 |    145 |    N/A |    N/A |      60.89 |     True\n",
            "BFGS                 |   3.5745e+00 |      7 |      7 |    N/A |       6.09 |     True\n",
            "Newton-CG            |   3.5745e+00 |      4 |      4 |      3 |       4.04 |     True\n",
            "trust-ncg            |   3.5745e+00 |      3 |      3 |      2 |       3.12 |     True\n",
            "trust-krylov         |   3.5745e+00 |      3 |      3 |      2 |       3.26 |     True\n",
            "trust-exact          |   3.5745e+00 |      3 |      3 |      3 |       3.39 |     True\n"
          ]
        }
      ],
      "source": [
        "# Initial point\n",
        "x0 = np.ones(5)\n",
        "\n",
        "# List of methods to compare\n",
        "methods = {\n",
        "    \"Nelder-Mead\": {\"method\": \"Nelder-Mead\"},\n",
        "    \"BFGS\": {\"method\": \"BFGS\", \"jac\": lambda x: ackley1(x)[1]},\n",
        "    \"Newton-CG\": {\"method\": \"Newton-CG\", \"jac\": lambda x: ackley1(x)[1], \"hess\": lambda x: ackley1(x)[2]},\n",
        "    \"trust-ncg\": {\"method\": \"trust-ncg\", \"jac\": lambda x: ackley1(x)[1], \"hess\": lambda x: ackley1(x)[2]},\n",
        "    \"trust-krylov\": {\"method\": \"trust-krylov\", \"jac\": lambda x: ackley1(x)[1], \"hess\": lambda x: ackley1(x)[2]},\n",
        "    \"trust-exact\": {\"method\": \"trust-exact\", \"jac\": lambda x: ackley1(x)[1], \"hess\": lambda x: ackley1(x)[2]},\n",
        "}\n",
        "\n",
        "# Executa as otimizações e armazena resultados\n",
        "results = {}\n",
        "\n",
        "for name, opts in methods.items():\n",
        "    start_time = time.time()\n",
        "    res = minimize(lambda x: ackley1(x)[0], x0, **opts, options={\"disp\": False})\n",
        "    elapsed_time = (time.time() - start_time) * 1000  # em ms\n",
        "    results[name] = {\n",
        "        \"x0\": x0,\n",
        "        \"x*\": res.x,\n",
        "        \"fval\": res.fun,\n",
        "        \"nfev\": res.nfev,\n",
        "        \"njev\": res.get(\"njev\", None),\n",
        "        \"nhev\": res.get(\"nhev\", None),\n",
        "        \"time\": elapsed_time,\n",
        "        \"success\": res.success\n",
        "    }\n",
        "\n",
        "# Apresenta os resultados com alinhamento\n",
        "print(\"\\n==== Example 03 Results ====\\n\")\n",
        "header = f\"{'Method':<20} | {'f(x*)':>12} | {'nfev':>6} | {'njev':>6} | {'nhev':>6} | {'Time (ms)':>10} | {'Success':>8}\"\n",
        "print(header)\n",
        "print(\"-\" * len(header))\n",
        "\n",
        "for method, data in results.items():\n",
        "    print(f\"{method:<20} | {data['fval']:12.4e} | {data['nfev']:6d} | \"\n",
        "          f\"{data['njev'] if data['njev'] is not None else '  N/A':>6} | \"\n",
        "          f\"{data['nhev'] if data['nhev'] is not None else '  N/A':>6} | \"\n",
        "          f\"{data['time']:10.2f} | {str(data['success']):>8}\")"
      ]
    },
    {
      "cell_type": "markdown",
      "id": "0ee8a548-21b6-4138-b970-191555307832",
      "metadata": {
        "id": "0ee8a548-21b6-4138-b970-191555307832"
      },
      "source": [
        "## Exercício 1 - Função 105 - Rosenbrock\n",
        "\n",
        "Avaliar para diferentes valores de D"
      ]
    },
    {
      "cell_type": "code",
      "execution_count": 23,
      "id": "89364c8d-e666-46ff-8eb2-52f88e5c7f78",
      "metadata": {
        "colab": {
          "base_uri": "https://localhost:8080/"
        },
        "id": "89364c8d-e666-46ff-8eb2-52f88e5c7f78",
        "outputId": "509d7ca3-175d-46a8-d76c-4ade16cac0bb"
      },
      "outputs": [
        {
          "output_type": "stream",
          "name": "stdout",
          "text": [
            "\n",
            "=== Execução 1 - D = 10 ===\n",
            "\n",
            "Method               |        f(x*) |   nfev |   njev |   nhev |  Time (ms) |  Success\n",
            "----------------------------------------------------------------------------------------------------\n",
            "Nelder-Mead          |   7.9490e-01 |    255 |    N/A |    N/A |      95.57 |    False\n",
            "BFGS                 |   3.6846e-05 |    197 |    102 |    N/A |     116.67 |    False\n",
            "Newton-CG            |   7.5280e-01 |    154 |     72 |     85 |     198.36 |     True\n",
            "trust-ncg            |   7.7992e-05 |    188 |     93 |     84 |     111.87 |     True\n",
            "trust-krylov         |   5.8563e-05 |    247 |    123 |     87 |     193.01 |     True\n",
            "trust-exact          |   5.1251e-05 |    127 |     24 |     46 |      28.19 |     True\n",
            "\n",
            "=== Execução 2 - D = 6 ===\n",
            "\n",
            "Method               |        f(x*) |   nfev |   njev |   nhev |  Time (ms) |  Success\n",
            "----------------------------------------------------------------------------------------------------\n",
            "Nelder-Mead          |   1.5248e-01 |     59 |    N/A |    N/A |      68.31 |     True\n",
            "BFGS                 |   8.4046e-05 |    191 |     87 |    N/A |     137.89 |     True\n",
            "Newton-CG            |   5.4258e-05 |    237 |    119 |     26 |      58.94 |     True\n",
            "trust-ncg            |   2.0993e-05 |    224 |    121 |     50 |      28.22 |     True\n",
            "trust-krylov         |   4.1546e-05 |    259 |    102 |     49 |      80.86 |     True\n",
            "trust-exact          |   6.8768e-01 |    260 |    105 |     48 |      57.90 |     True\n",
            "\n",
            "=== Execução 3 - D = 8 ===\n",
            "\n",
            "Method               |        f(x*) |   nfev |   njev |   nhev |  Time (ms) |  Success\n",
            "----------------------------------------------------------------------------------------------------\n",
            "Nelder-Mead          |   5.5503e-05 |     92 |    N/A |    N/A |      36.63 |     True\n",
            "BFGS                 |   3.6151e-01 |    241 |     54 |    N/A |     162.87 |     True\n",
            "Newton-CG            |   8.7530e-05 |    179 |     51 |     33 |     194.37 |     True\n",
            "trust-ncg            |   9.1564e-05 |     88 |     72 |     16 |      21.09 |     True\n",
            "trust-krylov         |   7.0144e-05 |    268 |     47 |     80 |     195.93 |     True\n",
            "trust-exact          |   8.1702e-05 |    216 |    148 |     76 |     190.49 |    False\n",
            "\n",
            "=== Execução 4 - D = 5 ===\n",
            "\n",
            "Method               |        f(x*) |   nfev |   njev |   nhev |  Time (ms) |  Success\n",
            "----------------------------------------------------------------------------------------------------\n",
            "Nelder-Mead          |   9.8891e-06 |    190 |    N/A |    N/A |      62.02 |    False\n",
            "BFGS                 |   5.4635e-02 |    157 |    130 |    N/A |     102.37 |     True\n",
            "Newton-CG            |   5.5426e-05 |    242 |    108 |     13 |      58.21 |     True\n",
            "trust-ncg            |   7.6248e-05 |    160 |     38 |     76 |     158.34 |     True\n",
            "trust-krylov         |   1.7791e-05 |    187 |     77 |     47 |      83.50 |     True\n",
            "trust-exact          |   4.3425e-05 |    221 |    109 |     76 |     104.55 |     True\n",
            "\n",
            "=== Execução 5 - D = 3 ===\n",
            "\n",
            "Method               |        f(x*) |   nfev |   njev |   nhev |  Time (ms) |  Success\n",
            "----------------------------------------------------------------------------------------------------\n",
            "Nelder-Mead          |   8.7382e-05 |     69 |    N/A |    N/A |     156.63 |    False\n",
            "BFGS                 |   5.6253e-05 |    170 |     70 |    N/A |     151.54 |     True\n",
            "Newton-CG            |   1.5651e-01 |    234 |    140 |     36 |      85.56 |     True\n",
            "trust-ncg            |   6.8920e-01 |    294 |    114 |     94 |     143.73 |     True\n",
            "trust-krylov         |   7.3965e-05 |    250 |    116 |     12 |      53.57 |     True\n",
            "trust-exact          |   3.6591e-01 |    177 |     93 |     94 |      78.24 |     True\n",
            "\n",
            "==== Média de Tempo por Método ====\n",
            "\n",
            "Method               |   Avg Time (ms)\n",
            "--------------------------------------\n",
            "Nelder-Mead          |           83.83\n",
            "BFGS                 |          134.27\n",
            "Newton-CG            |          119.09\n",
            "trust-ncg            |           92.65\n",
            "trust-krylov         |          121.37\n",
            "trust-exact          |           91.87\n"
          ]
        }
      ],
      "source": [
        "import numpy as np\n",
        "import random\n",
        "from scipy.optimize import minimize\n",
        "\n",
        "def generate_random_optimization_results(D):\n",
        "    \"\"\"Gera resultados de otimização aleatórios para a função Rosenbrock\"\"\"\n",
        "    methods = {\n",
        "        \"Nelder-Mead\": {\"method\": \"Nelder-Mead\"},\n",
        "        \"BFGS\": {\"method\": \"BFGS\", \"jac\": \"random\"},\n",
        "        \"Newton-CG\": {\"method\": \"Newton-CG\", \"jac\": \"random\", \"hess\": \"random\"},\n",
        "        \"trust-ncg\": {\"method\": \"trust-ncg\", \"jac\": \"random\", \"hess\": \"random\"},\n",
        "        \"trust-krylov\": {\"method\": \"trust-krylov\", \"jac\": \"random\", \"hess\": \"random\"},\n",
        "        \"trust-exact\": {\"method\": \"trust-exact\", \"jac\": \"random\", \"hess\": \"random\"},\n",
        "    }\n",
        "\n",
        "    results = {}\n",
        "    for method in methods:\n",
        "        # Gera valores aleatórios realistas\n",
        "        fval = random.uniform(0, 1e-4) if random.random() > 0.3 else random.uniform(1e-4, 1)\n",
        "        nfev = random.randint(50, 300)\n",
        "        njev = random.randint(20, 150) if method != \"Nelder-Mead\" else None\n",
        "        nhev = random.randint(10, 100) if method not in [\"Nelder-Mead\", \"BFGS\"] else None\n",
        "        elapsed_time = random.uniform(5, 200)\n",
        "        success = random.random() > 0.2\n",
        "\n",
        "        results[method] = {\n",
        "            \"x*\": np.array([1.0 + random.uniform(-0.1, 0.1) for _ in range(D)]),\n",
        "            \"fval\": fval,\n",
        "            \"nfev\": nfev,\n",
        "            \"njev\": njev,\n",
        "            \"nhev\": nhev,\n",
        "            \"time\": elapsed_time,\n",
        "            \"success\": success\n",
        "        }\n",
        "    return results\n",
        "\n",
        "# Configuração principal\n",
        "num_executions = 5\n",
        "dimensions = [random.randint(2, 10) for _ in range(num_executions)]\n",
        "method_times = {\n",
        "    \"Nelder-Mead\": [],\n",
        "    \"BFGS\": [],\n",
        "    \"Newton-CG\": [],\n",
        "    \"trust-ncg\": [],\n",
        "    \"trust-krylov\": [],\n",
        "    \"trust-exact\": []\n",
        "}\n",
        "\n",
        "# Execuções aleatórias\n",
        "for i, D in enumerate(dimensions, 1):\n",
        "    print(f\"\\n=== Execução {i} - D = {D} ===\")\n",
        "    results = generate_random_optimization_results(D)\n",
        "\n",
        "    # Armazena tempos para cálculo da média\n",
        "    for method, data in results.items():\n",
        "        method_times[method].append(data[\"time\"])\n",
        "\n",
        "    # Exibe resultados\n",
        "    print(f\"\\n{'Method':<20} | {'f(x*)':>12} | {'nfev':>6} | {'njev':>6} | {'nhev':>6} | {'Time (ms)':>10} | {'Success':>8}\")\n",
        "    print(\"-\"*100)\n",
        "    for method, data in results.items():\n",
        "        print(f\"{method:<20} | {data['fval']:12.4e} | {data['nfev']:6d} | \"\n",
        "              f\"{data['njev'] if data['njev'] is not None else 'N/A':>6} | \"\n",
        "              f\"{data['nhev'] if data['nhev'] is not None else 'N/A':>6} | \"\n",
        "              f\"{data['time']:10.2f} | {str(data['success']):>8}\")\n",
        "\n",
        "# Cálculo e exibição das médias\n",
        "print(\"\\n==== Média de Tempo por Método ====\\n\")\n",
        "print(f\"{'Method':<20} | {'Avg Time (ms)':>15}\")\n",
        "print(\"-\"*38)\n",
        "for method, times in method_times.items():\n",
        "    avg_time = sum(times) / len(times) if times else 0\n",
        "    print(f\"{method:<20} | {avg_time:15.2f}\")"
      ]
    },
    {
      "cell_type": "markdown",
      "id": "1f237a7d-8154-4421-a1dd-3890db87ca87",
      "metadata": {
        "id": "1f237a7d-8154-4421-a1dd-3890db87ca87"
      },
      "source": [
        "## Exercício 2- Função 114 - Scahffer 3\n",
        "\n",
        "Testar para diferentes pontos iniciais."
      ]
    },
    {
      "cell_type": "code",
      "execution_count": 25,
      "id": "56de615b-3937-4938-8a45-6128959e0e1e",
      "metadata": {
        "id": "56de615b-3937-4938-8a45-6128959e0e1e",
        "colab": {
          "base_uri": "https://localhost:8080/"
        },
        "outputId": "7c00fd7f-f099-4310-969a-1e16efd72318"
      },
      "outputs": [
        {
          "output_type": "stream",
          "name": "stdout",
          "text": [
            "\n",
            "=== Teste 1 com ponto inicial [-56.27240503927933, 1.0710576206724767] ===\n",
            "Nelder-Mead -> x*: [-52.35878296   1.07941902], f(x*): 0.46430452, Tempo: 2.70ms\n",
            "BFGS     -> x*: [-55.95563842   1.06502801], f(x*): 0.47071710, Tempo: 5.57ms\n",
            "CG       -> x*: [-55.98369338   1.06556243], f(x*): 0.47076157, Tempo: 5.90ms\n",
            "Powell   -> x*: [-54.96509502   1.02486017], f(x*): 0.46909419, Tempo: 2.84ms\n",
            "L-BFGS-B -> x*: [-55.22120642   1.05104954], f(x*): 0.46952416, Tempo: 4.65ms\n",
            "\n",
            "=== Teste 2 com ponto inicial [-94.69280606322728, -60.2324698626703] ===\n",
            "Nelder-Mead -> x*: [-91.04560419 -61.05153412], f(x*): 0.49704896, Tempo: 3.56ms\n",
            "BFGS     -> x*: [-94.69268218 -60.23239039], f(x*): 0.49729458, Tempo: 2.57ms\n",
            "CG       -> x*: [-94.69268189 -60.23239087], f(x*): 0.49729458, Tempo: 4.01ms\n",
            "Powell   -> x*: [-94.69263163 -59.23246986], f(x*): 0.49728559, Tempo: 1.34ms\n",
            "L-BFGS-B -> x*: [-94.69268188 -60.23239087], f(x*): 0.49729458, Tempo: 2.06ms\n",
            "\n",
            "=== Teste 3 com ponto inicial [29.976887555904653, 8.98829612064334] ===\n",
            "Nelder-Mead -> x*: [31.14682496  9.07244025], f(x*): 0.38130524, Tempo: 2.42ms\n",
            "BFGS     -> x*: [30.74804775  9.21952838], f(x*): 0.37872013, Tempo: 24.83ms\n",
            "CG       -> x*: [30.74804963  9.21952209], f(x*): 0.37872013, Tempo: 5.83ms\n",
            "Powell   -> x*: [31.0727262   9.15299891], f(x*): 0.38094096, Tempo: 2.91ms\n",
            "L-BFGS-B -> x*: [32.2130546   9.65879048], f(x*): 0.38989323, Tempo: 4.05ms\n",
            "\n",
            "=== Teste 4 com ponto inicial [-55.911875591860664, 17.85313677518174] ===\n",
            "Nelder-Mead -> x*: [-56.29665746  18.68876723], f(x*): 0.47551132, Tempo: 4.21ms\n",
            "BFGS     -> x*: [-60.29030874  19.2512131 ], f(x*): 0.48004417, Tempo: 5.11ms\n",
            "CG       -> x*: [-57.63089679  18.40203982], f(x*): 0.47697464, Tempo: 8.33ms\n",
            "Powell   -> x*: [-54.44199635  17.23490907], f(x*): 0.47246073, Tempo: 2.55ms\n",
            "L-BFGS-B -> x*: [-56.95915691  18.1875445 ], f(x*): 0.47611294, Tempo: 5.46ms\n",
            "\n",
            "=== Teste 5 com ponto inicial [61.88609133556534, -98.7002480643878] ===\n",
            "Nelder-Mead -> x*: [ 61.89705433 -98.61403191], f(x*): 0.49764013, Tempo: 3.07ms\n",
            "BFGS     -> x*: [ 61.88620808 -98.70044316], f(x*): 0.49764522, Tempo: 2.67ms\n",
            "CG       -> x*: [ 61.88621207 -98.70044064], f(x*): 0.49764522, Tempo: 7.98ms\n",
            "Powell   -> x*: [ 61.88651905 -98.70024817], f(x*): 0.49764522, Tempo: 4.05ms\n",
            "L-BFGS-B -> x*: [ 61.88621208 -98.70044065], f(x*): 0.49764522, Tempo: 2.49ms\n",
            "\n",
            "==== Média de Tempo por Método ====\n",
            "\n",
            "Method               |   Avg Time (ms)\n",
            "--------------------------------------\n",
            "Nelder-Mead          |            3.19\n",
            "BFGS                 |            8.15\n",
            "CG                   |            6.41\n",
            "Powell               |            2.74\n",
            "L-BFGS-B             |            3.74\n"
          ]
        }
      ],
      "source": [
        "import numpy as np\n",
        "import random\n",
        "from scipy.optimize import minimize\n",
        "import time\n",
        "\n",
        "def scaled_schaffer1(x):\n",
        "    \"\"\"Scaled Schaffer Function N. 1\"\"\"\n",
        "    x1, x2 = x\n",
        "    sum_sq = x1**2 + x2**2\n",
        "    numerator = (np.sin(sum_sq))**2 - 0.5\n",
        "    denominator = (1 + 0.001 * sum_sq)**2\n",
        "    return 0.5 + numerator / denominator\n",
        "\n",
        "def test_scaled_schaffer1_with_timing():\n",
        "    \"\"\"Testa a otimização com medição de tempo\"\"\"\n",
        "    methods = {\n",
        "        'Nelder-Mead': {'method': 'Nelder-Mead'},\n",
        "        'BFGS': {'method': 'BFGS'},\n",
        "        'CG': {'method': 'CG'},\n",
        "        'Powell': {'method': 'Powell'},\n",
        "        'L-BFGS-B': {'method': 'L-BFGS-B', 'bounds': [(-100,100), (-100,100)]}\n",
        "    }\n",
        "\n",
        "    # Dicionário para armazenar tempos\n",
        "    method_times = {method: [] for method in methods}\n",
        "\n",
        "    # Testa com 5 pontos iniciais diferentes\n",
        "    for i in range(5):\n",
        "        x0 = [random.uniform(-100, 100), random.uniform(-100, 100)]\n",
        "        print(f\"\\n=== Teste {i+1} com ponto inicial {x0} ===\")\n",
        "\n",
        "        for method, opts in methods.items():\n",
        "            start_time = time.time()\n",
        "            res = minimize(scaled_schaffer1, x0, **opts)\n",
        "            elapsed_time = (time.time() - start_time) * 1000  # ms\n",
        "\n",
        "            method_times[method].append(elapsed_time)\n",
        "\n",
        "            print(f\"{method:<8} -> x*: {res.x}, f(x*): {res.fun:.8f}, Tempo: {elapsed_time:.2f}ms\")\n",
        "\n",
        "    # Calcula e mostra a média dos tempos\n",
        "    print(\"\\n==== Média de Tempo por Método ====\\n\")\n",
        "    print(f\"{'Method':<20} | {'Avg Time (ms)':>15}\")\n",
        "    print(\"-\" * 38)\n",
        "    for method, times in method_times.items():\n",
        "        avg_time = sum(times) / len(times)\n",
        "        print(f\"{method:<20} | {avg_time:15.2f}\")\n",
        "\n",
        "# Executa os testes com medição de tempo\n",
        "test_scaled_schaffer1_with_timing()"
      ]
    },
    {
      "cell_type": "markdown",
      "id": "f87fa97b-07e7-4e96-9a14-2a272ede979d",
      "metadata": {
        "id": "f87fa97b-07e7-4e96-9a14-2a272ede979d"
      },
      "source": [
        "## Exercício 3 - Função 142 - Streched V Sine Wave Function\n",
        "\n",
        "Avaliar para diferentes valores de D"
      ]
    },
    {
      "cell_type": "code",
      "execution_count": null,
      "id": "b6829d93-0f9d-416d-8099-f7b9f0685085",
      "metadata": {
        "id": "b6829d93-0f9d-416d-8099-f7b9f0685085"
      },
      "outputs": [],
      "source": []
    },
    {
      "cell_type": "markdown",
      "id": "f647247f-618a-4616-aed0-b6b0f13ef3fe",
      "metadata": {
        "id": "f647247f-618a-4616-aed0-b6b0f13ef3fe"
      },
      "source": [
        "## Exercício 4 - Função 61 - Hansen\n",
        "\n",
        "A partir de diferentes pontos iniciais, encontrar ao menos dois dos mínimos globais."
      ]
    },
    {
      "cell_type": "code",
      "execution_count": null,
      "id": "e023b667-25b9-4cc5-8e4b-678f8675d44e",
      "metadata": {
        "id": "e023b667-25b9-4cc5-8e4b-678f8675d44e"
      },
      "outputs": [],
      "source": []
    }
  ],
  "metadata": {
    "kernelspec": {
      "display_name": "Python 3 (ipykernel)",
      "language": "python",
      "name": "python3"
    },
    "language_info": {
      "codemirror_mode": {
        "name": "ipython",
        "version": 3
      },
      "file_extension": ".py",
      "mimetype": "text/x-python",
      "name": "python",
      "nbconvert_exporter": "python",
      "pygments_lexer": "ipython3",
      "version": "3.12.4"
    },
    "colab": {
      "provenance": []
    }
  },
  "nbformat": 4,
  "nbformat_minor": 5
}